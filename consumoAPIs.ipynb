import requests
import json
import pandas as pd

url = "https://fakerapi.it/api/v1/credit_cards?_quantity=1"

respuesta = requests.get(url)

if respuesta.status_code == 200:
    datos = respuesta.json()
    texto = json.loads(respuesta.text)
    tabla = texto['data']
    pd.DataFrame(tabla)
else:
    print("Error al obtener datos de la API:", response.status_code)
